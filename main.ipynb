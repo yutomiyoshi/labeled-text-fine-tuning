{
 "cells": [
  {
   "cell_type": "code",
   "execution_count": 1,
   "id": "11f3a789-99dd-4419-828b-871818b64b5e",
   "metadata": {},
   "outputs": [],
   "source": [
    "from datasets import load_dataset, DatasetDict\n",
    "from transformers import AutoTokenizer, AutoModelForCausalLM, BitsAndBytesConfig\n",
    "import string\n",
    "from trl import SFTTrainer, SFTConfig, DataCollatorForCompletionOnlyLM\n",
    "from peft import LoraConfig\n",
    "import torch"
   ]
  },
  {
   "cell_type": "code",
   "execution_count": 2,
   "id": "bbac2d9b-f7d2-4351-b226-f20addfcfe43",
   "metadata": {},
   "outputs": [],
   "source": [
    "## モデル名\n",
    "\n",
    "model_name = \"cyberagent/calm2-7b-chat\""
   ]
  },
  {
   "cell_type": "code",
   "execution_count": 3,
   "id": "93e703b9-b36e-49bd-8772-6a085a0d1b78",
   "metadata": {},
   "outputs": [],
   "source": [
    "## トークナイザーのインポート\n",
    "\n",
    "tokenizer = AutoTokenizer.from_pretrained(\n",
    "    model_name,\n",
    "    use_fast = True\n",
    ")"
   ]
  },
  {
   "cell_type": "code",
   "execution_count": 4,
   "id": "e16bc956-95b4-4522-8fc4-c60a88e2135c",
   "metadata": {},
   "outputs": [
    {
     "name": "stderr",
     "output_type": "stream",
     "text": [
      "`low_cpu_mem_usage` was None, now default to True since model is quantized.\n"
     ]
    },
    {
     "data": {
      "application/vnd.jupyter.widget-view+json": {
       "model_id": "8efc778fb95a427c922e6d7831f6e71b",
       "version_major": 2,
       "version_minor": 0
      },
      "text/plain": [
       "Downloading shards:   0%|          | 0/2 [00:00<?, ?it/s]"
      ]
     },
     "metadata": {},
     "output_type": "display_data"
    },
    {
     "data": {
      "application/vnd.jupyter.widget-view+json": {
       "model_id": "bd270625f6214ef7bc5c3920fa35122b",
       "version_major": 2,
       "version_minor": 0
      },
      "text/plain": [
       "model-00001-of-00002.safetensors:  18%|#8        | 1.85G/9.98G [00:00<?, ?B/s]"
      ]
     },
     "metadata": {},
     "output_type": "display_data"
    },
    {
     "data": {
      "application/vnd.jupyter.widget-view+json": {
       "model_id": "42a72d4d8e6441d19dd5a55826df9e21",
       "version_major": 2,
       "version_minor": 0
      },
      "text/plain": [
       "model-00002-of-00002.safetensors:   0%|          | 0.00/4.04G [00:00<?, ?B/s]"
      ]
     },
     "metadata": {},
     "output_type": "display_data"
    },
    {
     "data": {
      "application/vnd.jupyter.widget-view+json": {
       "model_id": "d6936877c343465683bdaa029bd9d50e",
       "version_major": 2,
       "version_minor": 0
      },
      "text/plain": [
       "Loading checkpoint shards:   0%|          | 0/2 [00:00<?, ?it/s]"
      ]
     },
     "metadata": {},
     "output_type": "display_data"
    },
    {
     "data": {
      "application/vnd.jupyter.widget-view+json": {
       "model_id": "abda3b1025454dc69a34847cad4293e0",
       "version_major": 2,
       "version_minor": 0
      },
      "text/plain": [
       "generation_config.json:   0%|          | 0.00/132 [00:00<?, ?B/s]"
      ]
     },
     "metadata": {},
     "output_type": "display_data"
    }
   ],
   "source": [
    "## モデルのインポート\n",
    "## リソースが足りないので、1/8量子化\n",
    "## ファインチューニングする際のリソースを確保するために、多少精度を犠牲にする\n",
    "\n",
    "quantization_config = BitsAndBytesConfig(load_in_4bit = True)\n",
    "\n",
    "model = AutoModelForCausalLM.from_pretrained(\n",
    "    model_name,\n",
    "    quantization_config = quantization_config,\n",
    "    torch_dtype = torch.float32\n",
    ")"
   ]
  },
  {
   "cell_type": "code",
   "execution_count": 5,
   "id": "600cc5ea-cacc-49f4-8025-2c992b99325a",
   "metadata": {},
   "outputs": [],
   "source": [
    "request_key = \"USER:\"\n",
    "response_key = \"ASSISTANT:\"\n",
    "chat_template = string.Template(\n",
    "    \"USER:${user}\\nASSISTANT:${assistant}\"\n",
    ")"
   ]
  },
  {
   "cell_type": "code",
   "execution_count": 6,
   "id": "c7751035-0c97-4002-8e39-2efff5ac6181",
   "metadata": {},
   "outputs": [],
   "source": [
    "sample_text = chat_template.safe_substitute({\n",
    "    \"user\": \"人気タレント・タモリの本名は何でしょう？\",\n",
    "     \"assistant\": \"\" # AIに回答させるために空けておく\n",
    "})"
   ]
  },
  {
   "cell_type": "code",
   "execution_count": 7,
   "id": "e4135f5e-d756-4c24-8e8a-3faf13bd8c40",
   "metadata": {},
   "outputs": [],
   "source": [
    "def generate(model, text):\n",
    "    input_ids = tokenizer.encode(\n",
    "        text,\n",
    "        return_tensors = 'pt',\n",
    "        add_special_tokens = True\n",
    "    ).to(model.device)\n",
    "    output_ids = model.generate(\n",
    "        input_ids,\n",
    "        max_new_tokens = 100,\n",
    "        # do_sample = True,\n",
    "        # temperature = 0.8,\n",
    "    )\n",
    "    print(\n",
    "        tokenizer.decode(\n",
    "            output_ids[0],\n",
    "            skip_special_tokens = True\n",
    "        )\n",
    "    )"
   ]
  },
  {
   "cell_type": "code",
   "execution_count": 8,
   "id": "41553f64-e575-4c1c-848d-4de17260b638",
   "metadata": {},
   "outputs": [
    {
     "name": "stdout",
     "output_type": "stream",
     "text": [
      "USER:人気タレント・タモリの本名は何でしょう？\n",
      "ASSISTANT: タモリの本名は森田一義です。\n",
      "CPU times: user 676 ms, sys: 225 ms, total: 901 ms\n",
      "Wall time: 918 ms\n"
     ]
    }
   ],
   "source": [
    "%%time\n",
    "generate(model, sample_text)"
   ]
  },
  {
   "cell_type": "code",
   "execution_count": 9,
   "id": "e028c638-46e6-4207-bd21-c8c99b4fb1f5",
   "metadata": {},
   "outputs": [
    {
     "data": {
      "application/vnd.jupyter.widget-view+json": {
       "model_id": "2e729f5f654442bdb01a3fb709cf6967",
       "version_major": 2,
       "version_minor": 0
      },
      "text/plain": [
       "README.md:   0%|          | 0.00/3.21k [00:00<?, ?B/s]"
      ]
     },
     "metadata": {},
     "output_type": "display_data"
    },
    {
     "data": {
      "application/vnd.jupyter.widget-view+json": {
       "model_id": "534aba9b043d433ea1120806c4a67ebe",
       "version_major": 2,
       "version_minor": 0
      },
      "text/plain": [
       "data-cc-by-sa.jsonl:   0%|          | 0.00/2.38G [00:00<?, ?B/s]"
      ]
     },
     "metadata": {},
     "output_type": "display_data"
    },
    {
     "data": {
      "application/vnd.jupyter.widget-view+json": {
       "model_id": "5b2c340a6d6546cfa5e03cf488df7225",
       "version_major": 2,
       "version_minor": 0
      },
      "text/plain": [
       "Generating train split:   0%|          | 0/9074340 [00:00<?, ? examples/s]"
      ]
     },
     "metadata": {},
     "output_type": "display_data"
    }
   ],
   "source": [
    "## 外部のデータセットをインポート\n",
    "\n",
    "rs = \"izumi-lab/llm-japanese-dataset\"\n",
    "datasets = load_dataset(\n",
    "    rs,\n",
    "    split = 'train'\n",
    ")\n",
    "datasets = datasets.train_test_split(test_size = 0.1)\n",
    "train_datasets = datasets['train']\n",
    "eval_datasets = datasets['test']"
   ]
  },
  {
   "cell_type": "code",
   "execution_count": 10,
   "id": "9b3df404-e608-4059-8492-186cbd4f38c4",
   "metadata": {},
   "outputs": [],
   "source": [
    "## 学習データセットの整形プロセス\n",
    "\n",
    "def update_datasets(example):\n",
    "    output_texts = []\n",
    "    for instruction_, input_, output_ in zip(example['instruction'], example['input'], example['output']):\n",
    "        text = chat_template.safe_substitute({\n",
    "            \"user\": \"{0}\\n{1}\".format(instruction_, input_),\n",
    "            \"assistant\": \"なんだいっ！！こんなこともわからないのかい！！仕方ないねっ！！！\\n{0}\".format(output_)\n",
    "        })\n",
    "        output_texts.append(text)\n",
    "    return output_texts"
   ]
  },
  {
   "cell_type": "code",
   "execution_count": 11,
   "id": "90d4b0e1-1e8f-43a5-89ed-2512ab70ffa5",
   "metadata": {},
   "outputs": [],
   "source": [
    "## ??\n",
    "\n",
    "collator = DataCollatorForCompletionOnlyLM(\n",
    "    instruction_template = tokenizer.encode(request_key, add_special_tokens = False),\n",
    "    response_template = tokenizer.encode(response_key, add_special_tokens = False),\n",
    "    tokenizer = tokenizer\n",
    ")"
   ]
  },
  {
   "cell_type": "code",
   "execution_count": 12,
   "id": "72113fa1-231d-4858-a80d-b358ddece89b",
   "metadata": {},
   "outputs": [],
   "source": [
    "peft_config = LoraConfig(\n",
    "    peft_type = 'LORA',\n",
    "    task_type = 'CAUSAL_LM',\n",
    "    r = 8,\n",
    "    target_modules = 'all-linear',\n",
    "    lora_alpha = 8,\n",
    "    lora_dropout = 0.0,\n",
    ")"
   ]
  },
  {
   "cell_type": "code",
   "execution_count": 13,
   "id": "2623bbcc-7a42-4493-8e50-c86d4231b603",
   "metadata": {},
   "outputs": [],
   "source": [
    "## アダプタの付与\n",
    "## 量子化したモデルをそのままファインチューニングできないため\n",
    "## 全体チューニングではなく、出力換算するための行列を修飾する(Lora)\n",
    "## 実際にtrainされるのは行列の部分だけ\n",
    "\n",
    "model.add_adapter(peft_config)"
   ]
  },
  {
   "cell_type": "code",
   "execution_count": 14,
   "id": "1ce4e069-e153-4270-a677-72bdb9f465b5",
   "metadata": {},
   "outputs": [
    {
     "name": "stdout",
     "output_type": "stream",
     "text": [
      "USER:人気タレント・タモリの本名は何でしょう？\n",
      "ASSISTANT: タモリの本名は森田一義です。\n",
      "CPU times: user 769 ms, sys: 12.7 ms, total: 781 ms\n",
      "Wall time: 779 ms\n"
     ]
    }
   ],
   "source": [
    "%%time\n",
    "generate(model, sample_text)"
   ]
  },
  {
   "cell_type": "code",
   "execution_count": 15,
   "id": "5c32e61d-f4ab-4d86-ad84-e702c0679787",
   "metadata": {},
   "outputs": [
    {
     "name": "stderr",
     "output_type": "stream",
     "text": [
      "/usr/local/lib/python3.11/dist-packages/transformers/training_args.py:1568: FutureWarning: `evaluation_strategy` is deprecated and will be removed in version 4.46 of 🤗 Transformers. Use `eval_strategy` instead\n",
      "  warnings.warn(\n",
      "/usr/local/lib/python3.11/dist-packages/huggingface_hub/utils/_deprecation.py:100: FutureWarning: Deprecated argument(s) used in '__init__': max_seq_length. Will not be supported from version '0.13.0'.\n",
      "\n",
      "Deprecated positional argument(s) used in SFTTrainer, please use the SFTConfig to set these arguments instead.\n",
      "  warnings.warn(message, FutureWarning)\n",
      "/usr/local/lib/python3.11/dist-packages/trl/trainer/sft_trainer.py:300: UserWarning: You passed a `max_seq_length` argument to the SFTTrainer, the value you passed will override the one in the `SFTConfig`.\n",
      "  warnings.warn(\n"
     ]
    },
    {
     "data": {
      "application/vnd.jupyter.widget-view+json": {
       "model_id": "48d280dc1ad14f3eb966eec81fd473a7",
       "version_major": 2,
       "version_minor": 0
      },
      "text/plain": [
       "Map:   0%|          | 0/1000 [00:00<?, ? examples/s]"
      ]
     },
     "metadata": {},
     "output_type": "display_data"
    },
    {
     "data": {
      "application/vnd.jupyter.widget-view+json": {
       "model_id": "0cbe626c3403436abc1c63fdc11b0b8f",
       "version_major": 2,
       "version_minor": 0
      },
      "text/plain": [
       "Map:   0%|          | 0/100 [00:00<?, ? examples/s]"
      ]
     },
     "metadata": {},
     "output_type": "display_data"
    },
    {
     "name": "stdout",
     "output_type": "stream",
     "text": [
      "CPU times: user 682 ms, sys: 47.1 ms, total: 729 ms\n",
      "Wall time: 440 ms\n"
     ]
    }
   ],
   "source": [
    "%%time\n",
    "\n",
    "## 訓練オブジェクトの定義\n",
    "\n",
    "trainer = SFTTrainer(\n",
    "    model,\n",
    "    train_dataset = train_datasets.select(range(1000)),\n",
    "    eval_dataset = eval_datasets.select(range(100)),\n",
    "    args = SFTConfig(\n",
    "        output_dir = \"./tmp\",\n",
    "        evaluation_strategy = \"epoch\",\n",
    "        per_device_train_batch_size = 4,\n",
    "        per_device_eval_batch_size = 4,\n",
    "        learning_rate = 1e-5,\n",
    "        num_train_epochs = 3.0,\n",
    "        lr_scheduler_type = \"linear\",\n",
    "        warmup_ratio = 0.0,\n",
    "        logging_strategy = \"epoch\",\n",
    "        save_strategy = \"epoch\",\n",
    "        report_to = \"all\",\n",
    "        bf16 = True\n",
    "    ),\n",
    "    formatting_func = update_datasets,\n",
    "    data_collator = collator,\n",
    "    max_seq_length = 1024,\n",
    ")"
   ]
  },
  {
   "cell_type": "markdown",
   "id": "761f1fec-8bfb-40ea-8bfd-897348a8d466",
   "metadata": {},
   "source": [
    "↑警告文に従い後で修正"
   ]
  },
  {
   "cell_type": "code",
   "execution_count": 16,
   "id": "2cdd8939-9d34-4f31-b1d7-1b3927280fde",
   "metadata": {},
   "outputs": [
    {
     "data": {
      "text/html": [
       "\n",
       "    <div>\n",
       "      \n",
       "      <progress value='750' max='750' style='width:300px; height:20px; vertical-align: middle;'></progress>\n",
       "      [750/750 08:01, Epoch 3/3]\n",
       "    </div>\n",
       "    <table border=\"1\" class=\"dataframe\">\n",
       "  <thead>\n",
       " <tr style=\"text-align: left;\">\n",
       "      <th>Epoch</th>\n",
       "      <th>Training Loss</th>\n",
       "      <th>Validation Loss</th>\n",
       "    </tr>\n",
       "  </thead>\n",
       "  <tbody>\n",
       "    <tr>\n",
       "      <td>1</td>\n",
       "      <td>2.061700</td>\n",
       "      <td>1.121226</td>\n",
       "    </tr>\n",
       "    <tr>\n",
       "      <td>2</td>\n",
       "      <td>1.057000</td>\n",
       "      <td>1.017121</td>\n",
       "    </tr>\n",
       "    <tr>\n",
       "      <td>3</td>\n",
       "      <td>1.008500</td>\n",
       "      <td>1.005729</td>\n",
       "    </tr>\n",
       "  </tbody>\n",
       "</table><p>"
      ],
      "text/plain": [
       "<IPython.core.display.HTML object>"
      ]
     },
     "metadata": {},
     "output_type": "display_data"
    },
    {
     "name": "stderr",
     "output_type": "stream",
     "text": [
      "/usr/local/lib/python3.11/dist-packages/transformers/integrations/peft.py:418: FutureWarning: The `active_adapter` method is deprecated and will be removed in a future version.\n",
      "  warnings.warn(\n",
      "/usr/local/lib/python3.11/dist-packages/transformers/integrations/peft.py:418: FutureWarning: The `active_adapter` method is deprecated and will be removed in a future version.\n",
      "  warnings.warn(\n",
      "/usr/local/lib/python3.11/dist-packages/transformers/integrations/peft.py:418: FutureWarning: The `active_adapter` method is deprecated and will be removed in a future version.\n",
      "  warnings.warn(\n",
      "/usr/local/lib/python3.11/dist-packages/transformers/integrations/peft.py:418: FutureWarning: The `active_adapter` method is deprecated and will be removed in a future version.\n",
      "  warnings.warn(\n"
     ]
    },
    {
     "name": "stdout",
     "output_type": "stream",
     "text": [
      "CPU times: user 5min 19s, sys: 2min 40s, total: 7min 59s\n",
      "Wall time: 8min 2s\n"
     ]
    },
    {
     "data": {
      "text/plain": [
       "TrainOutput(global_step=750, training_loss=1.3757279052734375, metrics={'train_runtime': 482.2015, 'train_samples_per_second': 6.221, 'train_steps_per_second': 1.555, 'total_flos': 1.31387007762432e+16, 'train_loss': 1.3757279052734375, 'epoch': 3.0})"
      ]
     },
     "execution_count": 16,
     "metadata": {},
     "output_type": "execute_result"
    }
   ],
   "source": [
    "%%time\n",
    "\n",
    "## 訓練実行\n",
    "\n",
    "trainer.train()"
   ]
  },
  {
   "cell_type": "code",
   "execution_count": 17,
   "id": "337296f2-5625-4f5b-b9cd-8a4a2460e831",
   "metadata": {},
   "outputs": [
    {
     "name": "stdout",
     "output_type": "stream",
     "text": [
      "USER:人気タレント・タモリの本名は何でしょう？\n",
      "ASSISTANT:タモリの本名は「森田 一義」です。\n",
      "CPU times: user 1.11 s, sys: 12.5 ms, total: 1.12 s\n",
      "Wall time: 1.12 s\n"
     ]
    }
   ],
   "source": [
    "%%time\n",
    "generate(model, sample_text)"
   ]
  },
  {
   "cell_type": "code",
   "execution_count": null,
   "id": "3e05a0ab-c600-4d92-9599-294edf189173",
   "metadata": {},
   "outputs": [],
   "source": []
  },
  {
   "cell_type": "code",
   "execution_count": null,
   "id": "d6a1d085-671b-4315-87a1-ea3e1b244d20",
   "metadata": {},
   "outputs": [],
   "source": []
  }
 ],
 "metadata": {
  "kernelspec": {
   "display_name": "Python 3 (ipykernel)",
   "language": "python",
   "name": "python3"
  },
  "language_info": {
   "codemirror_mode": {
    "name": "ipython",
    "version": 3
   },
   "file_extension": ".py",
   "mimetype": "text/x-python",
   "name": "python",
   "nbconvert_exporter": "python",
   "pygments_lexer": "ipython3",
   "version": "3.11.10"
  }
 },
 "nbformat": 4,
 "nbformat_minor": 5
}
