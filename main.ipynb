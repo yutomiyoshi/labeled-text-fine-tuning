{
 "cells": [
  {
   "cell_type": "code",
   "execution_count": 46,
   "id": "11f3a789-99dd-4419-828b-871818b64b5e",
   "metadata": {},
   "outputs": [],
   "source": [
    "from datasets import load_dataset, DatasetDict\n",
    "from transformers import AutoTokenizer, AutoModelForCausalLM\n",
    "import string"
   ]
  },
  {
   "cell_type": "code",
   "execution_count": null,
   "id": "eb38eea0-728f-4bc0-96c8-d88c1dff3f9d",
   "metadata": {},
   "outputs": [],
   "source": [
    "## 外部のデータセットをインポート\n",
    "\n",
    "rs = \"izumi-lab/llm-japanese-dataset\"\n",
    "datasets = load_dataset(rs)\n",
    "split_ix = round(len(datasets['train']) * 0.7)\n",
    "datasets = DatasetDict({\n",
    "    \"train\": datasets['train'][:split_ix],\n",
    "    \"val\": datasets['train'][split_ix:]\n",
    "})\n",
    "datasets"
   ]
  },
  {
   "cell_type": "code",
   "execution_count": 5,
   "id": "bbac2d9b-f7d2-4351-b226-f20addfcfe43",
   "metadata": {},
   "outputs": [],
   "source": [
    "## モデル名\n",
    "\n",
    "model_name = \"cyberagent/calm2-7b-chat\""
   ]
  },
  {
   "cell_type": "code",
   "execution_count": 6,
   "id": "93e703b9-b36e-49bd-8772-6a085a0d1b78",
   "metadata": {},
   "outputs": [],
   "source": [
    "## トークナイザーのインポート\n",
    "\n",
    "tokenizer = AutoTokenizer.from_pretrained(\n",
    "    model_name,\n",
    "    use_fast = True\n",
    ")"
   ]
  },
  {
   "cell_type": "code",
   "execution_count": 7,
   "id": "e16bc956-95b4-4522-8fc4-c60a88e2135c",
   "metadata": {},
   "outputs": [
    {
     "name": "stderr",
     "output_type": "stream",
     "text": [
      "The `load_in_4bit` and `load_in_8bit` arguments are deprecated and will be removed in the future versions. Please, pass a `BitsAndBytesConfig` object in `quantization_config` argument instead.\n"
     ]
    },
    {
     "data": {
      "application/vnd.jupyter.widget-view+json": {
       "model_id": "2082cb14930249dd8df702aa52ea6b36",
       "version_major": 2,
       "version_minor": 0
      },
      "text/plain": [
       "model.safetensors.index.json:   0%|          | 0.00/25.1k [00:00<?, ?B/s]"
      ]
     },
     "metadata": {},
     "output_type": "display_data"
    },
    {
     "data": {
      "application/vnd.jupyter.widget-view+json": {
       "model_id": "67b9d894f6464e5c8a56064161714080",
       "version_major": 2,
       "version_minor": 0
      },
      "text/plain": [
       "Downloading shards:   0%|          | 0/2 [00:00<?, ?it/s]"
      ]
     },
     "metadata": {},
     "output_type": "display_data"
    },
    {
     "data": {
      "application/vnd.jupyter.widget-view+json": {
       "model_id": "4384fdda9a1f4ca2827a99b9118e3c5a",
       "version_major": 2,
       "version_minor": 0
      },
      "text/plain": [
       "model-00001-of-00002.safetensors:   0%|          | 0.00/9.98G [00:00<?, ?B/s]"
      ]
     },
     "metadata": {},
     "output_type": "display_data"
    },
    {
     "data": {
      "application/vnd.jupyter.widget-view+json": {
       "model_id": "7dd16355243d428db91a18a22fc1daa6",
       "version_major": 2,
       "version_minor": 0
      },
      "text/plain": [
       "model-00002-of-00002.safetensors:   0%|          | 0.00/4.04G [00:00<?, ?B/s]"
      ]
     },
     "metadata": {},
     "output_type": "display_data"
    },
    {
     "data": {
      "application/vnd.jupyter.widget-view+json": {
       "model_id": "80daf2420041439a91764eb932ff50ae",
       "version_major": 2,
       "version_minor": 0
      },
      "text/plain": [
       "Loading checkpoint shards:   0%|          | 0/2 [00:00<?, ?it/s]"
      ]
     },
     "metadata": {},
     "output_type": "display_data"
    },
    {
     "data": {
      "application/vnd.jupyter.widget-view+json": {
       "model_id": "89ee41f2107b44e38bf90764bd470877",
       "version_major": 2,
       "version_minor": 0
      },
      "text/plain": [
       "generation_config.json:   0%|          | 0.00/132 [00:00<?, ?B/s]"
      ]
     },
     "metadata": {},
     "output_type": "display_data"
    }
   ],
   "source": [
    "## モデルのインポート\n",
    "## リソースが足りないので、1/4量子化\n",
    "\n",
    "model = AutoModelForCausalLM.from_pretrained(\n",
    "    model_name,\n",
    "    device_map = 'auto', # 複数のGPUがあるときに、それらを均等に使用する\n",
    "    load_in_8bit = True, # 精度と引き換えに、パラメータを8bitに省略したLLMを使用して計算を軽量化\n",
    ")"
   ]
  },
  {
   "cell_type": "code",
   "execution_count": 30,
   "id": "600cc5ea-cacc-49f4-8025-2c992b99325a",
   "metadata": {},
   "outputs": [],
   "source": [
    "chat_template = string.Template(\n",
    "    \"USER:${user}\\nASSISTANT:\"\n",
    ")"
   ]
  },
  {
   "cell_type": "code",
   "execution_count": 35,
   "id": "c7751035-0c97-4002-8e39-2efff5ac6181",
   "metadata": {},
   "outputs": [],
   "source": [
    "sample_text = chat_template.safe_substitute({\"user\": \"人気タレント・タモリの本名は何でしょう？\"})"
   ]
  },
  {
   "cell_type": "code",
   "execution_count": 36,
   "id": "e4135f5e-d756-4c24-8e8a-3faf13bd8c40",
   "metadata": {},
   "outputs": [],
   "source": [
    "def generate(model, text):\n",
    "    input_ids = tokenizer.encode(\n",
    "        text,\n",
    "        return_tensors = 'pt',\n",
    "        add_special_tokens = True\n",
    "    ).to(model.device)\n",
    "    output_ids = model.generate(\n",
    "        input_ids,\n",
    "        max_new_tokens = 100,\n",
    "        do_sample = True,\n",
    "        temperature = 0.8,\n",
    "    )\n",
    "    print(\n",
    "        tokenizer.decode(\n",
    "            output_ids[0],\n",
    "            skip_special_tokens = True\n",
    "        )\n",
    "    )"
   ]
  },
  {
   "cell_type": "code",
   "execution_count": 37,
   "id": "41553f64-e575-4c1c-848d-4de17260b638",
   "metadata": {},
   "outputs": [
    {
     "name": "stdout",
     "output_type": "stream",
     "text": [
      "USER:人気タレント・タモリの本名は何でしょう？\n",
      "ASSISTANT: タモリの本名は「森田一義」です。\n",
      "CPU times: user 2.19 s, sys: 8.41 ms, total: 2.2 s\n",
      "Wall time: 2.2 s\n"
     ]
    }
   ],
   "source": [
    "%%time\n",
    "generate(model, sample_text)"
   ]
  },
  {
   "cell_type": "code",
   "execution_count": 26,
   "id": "9b3df404-e608-4059-8492-186cbd4f38c4",
   "metadata": {},
   "outputs": [],
   "source": []
  },
  {
   "cell_type": "code",
   "execution_count": 28,
   "id": "2cdd8939-9d34-4f31-b1d7-1b3927280fde",
   "metadata": {},
   "outputs": [],
   "source": []
  },
  {
   "cell_type": "code",
   "execution_count": null,
   "id": "337296f2-5625-4f5b-b9cd-8a4a2460e831",
   "metadata": {},
   "outputs": [],
   "source": []
  }
 ],
 "metadata": {
  "kernelspec": {
   "display_name": "Python 3 (ipykernel)",
   "language": "python",
   "name": "python3"
  },
  "language_info": {
   "codemirror_mode": {
    "name": "ipython",
    "version": 3
   },
   "file_extension": ".py",
   "mimetype": "text/x-python",
   "name": "python",
   "nbconvert_exporter": "python",
   "pygments_lexer": "ipython3",
   "version": "3.11.10"
  }
 },
 "nbformat": 4,
 "nbformat_minor": 5
}
