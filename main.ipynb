{
 "cells": [
  {
   "cell_type": "code",
   "execution_count": 1,
   "id": "11f3a789-99dd-4419-828b-871818b64b5e",
   "metadata": {},
   "outputs": [],
   "source": [
    "from datasets import load_dataset, DatasetDict\n",
    "from transformers import AutoTokenizer, AutoModelForCausalLM\n",
    "import string\n",
    "from trl import SFTTrainer, SFTConfig, DataCollatorForCompletionOnlyLM\n",
    "from peft import LoraConfig"
   ]
  },
  {
   "cell_type": "code",
   "execution_count": 2,
   "id": "bbac2d9b-f7d2-4351-b226-f20addfcfe43",
   "metadata": {},
   "outputs": [],
   "source": [
    "## モデル名\n",
    "\n",
    "model_name = \"cyberagent/calm2-7b-chat\""
   ]
  },
  {
   "cell_type": "code",
   "execution_count": 3,
   "id": "93e703b9-b36e-49bd-8772-6a085a0d1b78",
   "metadata": {},
   "outputs": [
    {
     "data": {
      "application/vnd.jupyter.widget-view+json": {
       "model_id": "1d10585de0d4408a82cd6f6fe237d8cf",
       "version_major": 2,
       "version_minor": 0
      },
      "text/plain": [
       "tokenizer_config.json:   0%|          | 0.00/678 [00:00<?, ?B/s]"
      ]
     },
     "metadata": {},
     "output_type": "display_data"
    },
    {
     "data": {
      "application/vnd.jupyter.widget-view+json": {
       "model_id": "7d56a1e4363c48dfbc673aca9392f2a7",
       "version_major": 2,
       "version_minor": 0
      },
      "text/plain": [
       "tokenizer.json:   0%|          | 0.00/3.27M [00:00<?, ?B/s]"
      ]
     },
     "metadata": {},
     "output_type": "display_data"
    },
    {
     "data": {
      "application/vnd.jupyter.widget-view+json": {
       "model_id": "8c3ee044b5ee4a08a071492ac83b364f",
       "version_major": 2,
       "version_minor": 0
      },
      "text/plain": [
       "special_tokens_map.json:   0%|          | 0.00/585 [00:00<?, ?B/s]"
      ]
     },
     "metadata": {},
     "output_type": "display_data"
    }
   ],
   "source": [
    "## トークナイザーのインポート\n",
    "\n",
    "tokenizer = AutoTokenizer.from_pretrained(\n",
    "    model_name,\n",
    "    use_fast = True\n",
    ")"
   ]
  },
  {
   "cell_type": "code",
   "execution_count": 4,
   "id": "e16bc956-95b4-4522-8fc4-c60a88e2135c",
   "metadata": {},
   "outputs": [
    {
     "data": {
      "application/vnd.jupyter.widget-view+json": {
       "model_id": "4ced992f6d864662ac4ce32978cdee68",
       "version_major": 2,
       "version_minor": 0
      },
      "text/plain": [
       "config.json:   0%|          | 0.00/669 [00:00<?, ?B/s]"
      ]
     },
     "metadata": {},
     "output_type": "display_data"
    },
    {
     "name": "stderr",
     "output_type": "stream",
     "text": [
      "The `load_in_4bit` and `load_in_8bit` arguments are deprecated and will be removed in the future versions. Please, pass a `BitsAndBytesConfig` object in `quantization_config` argument instead.\n"
     ]
    },
    {
     "data": {
      "application/vnd.jupyter.widget-view+json": {
       "model_id": "9cd43357c90445f9ae2c62f7d706dc0a",
       "version_major": 2,
       "version_minor": 0
      },
      "text/plain": [
       "model.safetensors.index.json:   0%|          | 0.00/25.1k [00:00<?, ?B/s]"
      ]
     },
     "metadata": {},
     "output_type": "display_data"
    },
    {
     "data": {
      "application/vnd.jupyter.widget-view+json": {
       "model_id": "e8c03f90c74a470780683b331570935d",
       "version_major": 2,
       "version_minor": 0
      },
      "text/plain": [
       "Downloading shards:   0%|          | 0/2 [00:00<?, ?it/s]"
      ]
     },
     "metadata": {},
     "output_type": "display_data"
    },
    {
     "data": {
      "application/vnd.jupyter.widget-view+json": {
       "model_id": "3db2d642a0f34723a787b4ff9a93e04d",
       "version_major": 2,
       "version_minor": 0
      },
      "text/plain": [
       "model-00001-of-00002.safetensors:   0%|          | 0.00/9.98G [00:00<?, ?B/s]"
      ]
     },
     "metadata": {},
     "output_type": "display_data"
    },
    {
     "data": {
      "application/vnd.jupyter.widget-view+json": {
       "model_id": "97af569f29b54db0a358d89a63b13837",
       "version_major": 2,
       "version_minor": 0
      },
      "text/plain": [
       "model-00002-of-00002.safetensors:   0%|          | 0.00/4.04G [00:00<?, ?B/s]"
      ]
     },
     "metadata": {},
     "output_type": "display_data"
    },
    {
     "data": {
      "application/vnd.jupyter.widget-view+json": {
       "model_id": "f025071dd4464a39b1f9ac90c1a2f212",
       "version_major": 2,
       "version_minor": 0
      },
      "text/plain": [
       "Loading checkpoint shards:   0%|          | 0/2 [00:00<?, ?it/s]"
      ]
     },
     "metadata": {},
     "output_type": "display_data"
    },
    {
     "data": {
      "application/vnd.jupyter.widget-view+json": {
       "model_id": "ab5b32594bd0470db2fe22b090c2aa09",
       "version_major": 2,
       "version_minor": 0
      },
      "text/plain": [
       "generation_config.json:   0%|          | 0.00/132 [00:00<?, ?B/s]"
      ]
     },
     "metadata": {},
     "output_type": "display_data"
    }
   ],
   "source": [
    "## モデルのインポート\n",
    "## リソースが足りないので、1/4量子化\n",
    "\n",
    "model = AutoModelForCausalLM.from_pretrained(\n",
    "    model_name,\n",
    "    device_map = 'auto', # 複数のGPUがあるときに、それらを均等に使用する\n",
    "    load_in_8bit = True, # 精度と引き換えに、パラメータを8bitに省略したLLMを使用して計算を軽量化\n",
    ")"
   ]
  },
  {
   "cell_type": "code",
   "execution_count": 5,
   "id": "600cc5ea-cacc-49f4-8025-2c992b99325a",
   "metadata": {},
   "outputs": [],
   "source": [
    "chat_template = string.Template(\n",
    "    \"USER:${user}\\nASSISTANT:${assistant}\"\n",
    ")\n",
    "response_key = \"ASSISTANT:\""
   ]
  },
  {
   "cell_type": "code",
   "execution_count": 6,
   "id": "c7751035-0c97-4002-8e39-2efff5ac6181",
   "metadata": {},
   "outputs": [],
   "source": [
    "sample_text = chat_template.safe_substitute({\n",
    "    \"user\": \"人気タレント・タモリの本名は何でしょう？\",\n",
    "     \"assistant\": \"\" # AIに回答させるために空けておく\n",
    "})"
   ]
  },
  {
   "cell_type": "code",
   "execution_count": 7,
   "id": "e4135f5e-d756-4c24-8e8a-3faf13bd8c40",
   "metadata": {},
   "outputs": [],
   "source": [
    "def generate(model, text):\n",
    "    input_ids = tokenizer.encode(\n",
    "        text,\n",
    "        return_tensors = 'pt',\n",
    "        add_special_tokens = True\n",
    "    ).to(model.device)\n",
    "    output_ids = model.generate(\n",
    "        input_ids,\n",
    "        max_new_tokens = 100,\n",
    "        do_sample = True,\n",
    "        temperature = 0.8,\n",
    "    )\n",
    "    print(\n",
    "        tokenizer.decode(\n",
    "            output_ids[0],\n",
    "            skip_special_tokens = True\n",
    "        )\n",
    "    )"
   ]
  },
  {
   "cell_type": "code",
   "execution_count": 8,
   "id": "41553f64-e575-4c1c-848d-4de17260b638",
   "metadata": {},
   "outputs": [
    {
     "name": "stdout",
     "output_type": "stream",
     "text": [
      "USER:人気タレント・タモリの本名は何でしょう？\n",
      "ASSISTANT: タレントのタモリの本名は森田一義であり、「タモリ」は芸名である。\n",
      "CPU times: user 3.68 s, sys: 412 ms, total: 4.09 s\n",
      "Wall time: 4.47 s\n"
     ]
    }
   ],
   "source": [
    "%%time\n",
    "generate(model, sample_text)"
   ]
  },
  {
   "cell_type": "code",
   "execution_count": 9,
   "id": "e028c638-46e6-4207-bd21-c8c99b4fb1f5",
   "metadata": {},
   "outputs": [
    {
     "data": {
      "application/vnd.jupyter.widget-view+json": {
       "model_id": "65ac37f419774511823facd3f29d7528",
       "version_major": 2,
       "version_minor": 0
      },
      "text/plain": [
       "README.md:   0%|          | 0.00/3.21k [00:00<?, ?B/s]"
      ]
     },
     "metadata": {},
     "output_type": "display_data"
    },
    {
     "data": {
      "application/vnd.jupyter.widget-view+json": {
       "model_id": "94f1e9aef40d44abb42c8da9bddbd214",
       "version_major": 2,
       "version_minor": 0
      },
      "text/plain": [
       "data-cc-by-sa.jsonl:   0%|          | 0.00/2.38G [00:00<?, ?B/s]"
      ]
     },
     "metadata": {},
     "output_type": "display_data"
    },
    {
     "data": {
      "application/vnd.jupyter.widget-view+json": {
       "model_id": "ba51866255be4ab7b5db291e51b7264d",
       "version_major": 2,
       "version_minor": 0
      },
      "text/plain": [
       "Generating train split:   0%|          | 0/9074340 [00:00<?, ? examples/s]"
      ]
     },
     "metadata": {},
     "output_type": "display_data"
    }
   ],
   "source": [
    "## 外部のデータセットをインポート\n",
    "\n",
    "rs = \"izumi-lab/llm-japanese-dataset\"\n",
    "datasets = load_dataset(\n",
    "    rs,\n",
    "    split = 'train'\n",
    ")"
   ]
  },
  {
   "cell_type": "code",
   "execution_count": 10,
   "id": "9b3df404-e608-4059-8492-186cbd4f38c4",
   "metadata": {},
   "outputs": [],
   "source": [
    "## 学習データセットの整形プロセス\n",
    "\n",
    "def update_datasets(example):\n",
    "    output_texts = []\n",
    "    for instruction_, input_, output_ in zip(example['instruction'], example['input'], example['output']):\n",
    "        text = chat_template.safe_substitute({\n",
    "            \"user\": \"{0}\\n{1}\".format(instruction_, input_),\n",
    "            \"assistant\": output_\n",
    "        })\n",
    "        output_texts.append(text)\n",
    "    return output_texts"
   ]
  },
  {
   "cell_type": "code",
   "execution_count": 11,
   "id": "90d4b0e1-1e8f-43a5-89ed-2512ab70ffa5",
   "metadata": {},
   "outputs": [],
   "source": [
    "## ??\n",
    "\n",
    "collator = DataCollatorForCompletionOnlyLM(\n",
    "    response_key,\n",
    "    tokenizer = tokenizer\n",
    ")"
   ]
  },
  {
   "cell_type": "code",
   "execution_count": 12,
   "id": "72113fa1-231d-4858-a80d-b358ddece89b",
   "metadata": {},
   "outputs": [],
   "source": [
    "peft_config = LoraConfig(\n",
    "    lora_alpha = 16,\n",
    "    lora_dropout = 0.1,\n",
    "    r = 16,\n",
    "    bias = \"lora_only\",\n",
    "    task_type = \"CAUSAL_LM\",\n",
    ")"
   ]
  },
  {
   "cell_type": "code",
   "execution_count": 13,
   "id": "2623bbcc-7a42-4493-8e50-c86d4231b603",
   "metadata": {},
   "outputs": [],
   "source": [
    "## アダプタの付与\n",
    "## 量子化したモデルをそのままファインチューニングできないため\n",
    "## 全体チューニングではなく、出力換算するための行列を修飾する(Lora)\n",
    "## 実際にtrainされるのは行列の部分だけ\n",
    "\n",
    "model.add_adapter(peft_config)"
   ]
  },
  {
   "cell_type": "code",
   "execution_count": 14,
   "id": "1ce4e069-e153-4270-a677-72bdb9f465b5",
   "metadata": {},
   "outputs": [
    {
     "name": "stdout",
     "output_type": "stream",
     "text": [
      "USER:人気タレント・タモリの本名は何でしょう？\n",
      "ASSISTANT: タレントのタモリは本名を森田豊（もりた ゆたか）さんといいます。\n",
      "CPU times: user 3.61 s, sys: 45 ms, total: 3.66 s\n",
      "Wall time: 3.83 s\n"
     ]
    }
   ],
   "source": [
    "%%time\n",
    "generate(model, sample_text)"
   ]
  },
  {
   "cell_type": "code",
   "execution_count": 15,
   "id": "5c32e61d-f4ab-4d86-ad84-e702c0679787",
   "metadata": {},
   "outputs": [
    {
     "name": "stderr",
     "output_type": "stream",
     "text": [
      "/usr/local/lib/python3.11/dist-packages/huggingface_hub/utils/_deprecation.py:100: FutureWarning: Deprecated argument(s) used in '__init__': max_seq_length. Will not be supported from version '0.13.0'.\n",
      "\n",
      "Deprecated positional argument(s) used in SFTTrainer, please use the SFTConfig to set these arguments instead.\n",
      "  warnings.warn(message, FutureWarning)\n",
      "/usr/local/lib/python3.11/dist-packages/trl/trainer/sft_trainer.py:300: UserWarning: You passed a `max_seq_length` argument to the SFTTrainer, the value you passed will override the one in the `SFTConfig`.\n",
      "  warnings.warn(\n"
     ]
    },
    {
     "data": {
      "application/vnd.jupyter.widget-view+json": {
       "model_id": "f6e3a40e87884c66addb7c8778fbe345",
       "version_major": 2,
       "version_minor": 0
      },
      "text/plain": [
       "Map:   0%|          | 0/10000 [00:00<?, ? examples/s]"
      ]
     },
     "metadata": {},
     "output_type": "display_data"
    },
    {
     "name": "stdout",
     "output_type": "stream",
     "text": [
      "CPU times: user 3.1 s, sys: 97.6 ms, total: 3.2 s\n",
      "Wall time: 1.03 s\n"
     ]
    }
   ],
   "source": [
    "%%time\n",
    "\n",
    "## 訓練オブジェクトの定義\n",
    "\n",
    "trainer = SFTTrainer(\n",
    "    model,\n",
    "    train_dataset = datasets.select(range(10000)),\n",
    "    args = SFTConfig(\n",
    "        output_dir = \"./tmp\",\n",
    "        per_device_train_batch_size = 16\n",
    "    ),\n",
    "    formatting_func = update_datasets,\n",
    "    data_collator = collator,\n",
    "    max_seq_length = 128,\n",
    ")"
   ]
  },
  {
   "cell_type": "code",
   "execution_count": 16,
   "id": "2cdd8939-9d34-4f31-b1d7-1b3927280fde",
   "metadata": {},
   "outputs": [
    {
     "data": {
      "text/html": [
       "\n",
       "    <div>\n",
       "      \n",
       "      <progress value='1875' max='1875' style='width:300px; height:20px; vertical-align: middle;'></progress>\n",
       "      [1875/1875 21:42, Epoch 3/3]\n",
       "    </div>\n",
       "    <table border=\"1\" class=\"dataframe\">\n",
       "  <thead>\n",
       " <tr style=\"text-align: left;\">\n",
       "      <th>Step</th>\n",
       "      <th>Training Loss</th>\n",
       "    </tr>\n",
       "  </thead>\n",
       "  <tbody>\n",
       "    <tr>\n",
       "      <td>500</td>\n",
       "      <td>14.583100</td>\n",
       "    </tr>\n",
       "    <tr>\n",
       "      <td>1000</td>\n",
       "      <td>14.636500</td>\n",
       "    </tr>\n",
       "    <tr>\n",
       "      <td>1500</td>\n",
       "      <td>14.638100</td>\n",
       "    </tr>\n",
       "  </tbody>\n",
       "</table><p>"
      ],
      "text/plain": [
       "<IPython.core.display.HTML object>"
      ]
     },
     "metadata": {},
     "output_type": "display_data"
    },
    {
     "name": "stderr",
     "output_type": "stream",
     "text": [
      "/usr/local/lib/python3.11/dist-packages/trl/trainer/utils.py:160: UserWarning: Could not find response key `ASSISTANT:` in the following instance: USER:和服で、帯の結び目を丸くふくらませる結び方を、ある楽器に例えて何というでしょう？\n",
      "\n",
      "ASSISTANT:(お)太鼓結び<|padding|><|padding|><|padding|><|padding|><|padding|><|padding|><|padding|><|padding|><|padding|><|padding|><|padding|><|padding|><|padding|><|padding|><|padding|><|padding|><|padding|><|padding|><|padding|><|padding|><|padding|><|padding|><|padding|><|padding|><|padding|><|padding|><|padding|><|padding|> This instance will be ignored in loss calculation. Note, if this happens often, consider increasing the `max_seq_length`.\n",
      "  warnings.warn(\n",
      "/usr/local/lib/python3.11/dist-packages/trl/trainer/utils.py:160: UserWarning: Could not find response key `ASSISTANT:` in the following instance: USER:嘉永６年に開園した、東京にある日本最古の遊園地はどこでしょう？\n",
      "\n",
      "ASSISTANT:(浅草)花やしき<|padding|><|padding|><|padding|><|padding|><|padding|><|padding|><|padding|><|padding|><|padding|><|padding|><|padding|><|padding|><|padding|> This instance will be ignored in loss calculation. Note, if this happens often, consider increasing the `max_seq_length`.\n",
      "  warnings.warn(\n",
      "/usr/local/lib/python3.11/dist-packages/trl/trainer/utils.py:160: UserWarning: Could not find response key `ASSISTANT:` in the following instance: USER:1909年、世界で初めて北極点に到達したアメリカの軍人は誰でしょう？\n",
      "\n",
      "ASSISTANT:(ロバート・)ピアリ(ー)<|padding|><|padding|><|padding|><|padding|><|padding|><|padding|><|padding|><|padding|><|padding|><|padding|><|padding|><|padding|><|padding|><|padding|> This instance will be ignored in loss calculation. Note, if this happens often, consider increasing the `max_seq_length`.\n",
      "  warnings.warn(\n",
      "/usr/local/lib/python3.11/dist-packages/trl/trainer/utils.py:160: UserWarning: Could not find response key `ASSISTANT:` in the following instance: USER:(2007年)現在は23時55分を指している、地球が滅亡する「午前０時」までの残り時間を象徴的に示す、シカゴ大学に置かれた時計を何というでしょう？\n",
      "\n",
      "ASSISTANT:(世界)終末時計(Doomsday Clock、核の時計、運命の日の時計) This instance will be ignored in loss calculation. Note, if this happens often, consider increasing the `max_seq_length`.\n",
      "  warnings.warn(\n",
      "/usr/local/lib/python3.11/dist-packages/trl/trainer/utils.py:160: UserWarning: Could not find response key `ASSISTANT:` in the following instance: USER:正多角形の中で唯一、辺の数と対角線の数が同じものは何でしょう？\n",
      "\n",
      "ASSISTANT:(正)五角形<|padding|><|padding|><|padding|><|padding|><|padding|><|padding|><|padding|><|padding|><|padding|><|padding|><|padding|><|padding|><|padding|><|padding|><|padding|><|padding|><|padding|><|padding|><|padding|><|padding|><|padding|><|padding|><|padding|><|padding|><|padding|><|padding|><|padding|><|padding|><|padding|><|padding|><|padding|> This instance will be ignored in loss calculation. Note, if this happens often, consider increasing the `max_seq_length`.\n",
      "  warnings.warn(\n",
      "/usr/local/lib/python3.11/dist-packages/trl/trainer/utils.py:160: UserWarning: Could not find response key `ASSISTANT:` in the following instance: USER:データ通信を行うために、コンピューターや端末との間であらかじめ定めておく通信規約のことを、英語で何と言うでしょう？\n",
      "\n",
      "ASSISTANT:(ネットワーク)プロトコル(protocol)【「通信プロトコル」「コミュニケーションプロトコル」も○】 This instance will be ignored in loss calculation. Note, if this happens often, consider increasing the `max_seq_length`.\n",
      "  warnings.warn(\n",
      "/usr/local/lib/python3.11/dist-packages/trl/trainer/utils.py:160: UserWarning: Could not find response key `ASSISTANT:` in the following instance: USER:フィリピンの第３代大統領の名が付けられた、「アジアのノーベル賞」とも呼ばれる国際的な賞は何でしょう？\n",
      "\n",
      "ASSISTANT:(ﾗﾓﾝ･)マグサイサイ賞<|padding|><|padding|><|padding|><|padding|> This instance will be ignored in loss calculation. Note, if this happens often, consider increasing the `max_seq_length`.\n",
      "  warnings.warn(\n",
      "/usr/local/lib/python3.11/dist-packages/trl/trainer/utils.py:160: UserWarning: Could not find response key `ASSISTANT:` in the following instance: USER:車や戦艦のプラモデルをはじめ「ミニ四駆」の発売で有名な、静岡市にある模型会社は何でしょう？\n",
      "\n",
      "ASSISTANT:(株式会社)タミヤ【旧社名「田宮模型」もオマケで○】 This instance will be ignored in loss calculation. Note, if this happens often, consider increasing the `max_seq_length`.\n",
      "  warnings.warn(\n",
      "/usr/local/lib/python3.11/dist-packages/trl/trainer/utils.py:160: UserWarning: Could not find response key `ASSISTANT:` in the following instance: USER:衆・参各７名ずつの議員で構成される、国会が裁判官を罷免するために設置する裁判所を何というでしょう？\n",
      "\n",
      "ASSISTANT:(裁判官)弾劾裁判所<|padding|><|padding|> This instance will be ignored in loss calculation. Note, if this happens often, consider increasing the `max_seq_length`.\n",
      "  warnings.warn(\n",
      "/usr/local/lib/python3.11/dist-packages/trl/trainer/utils.py:160: UserWarning: Could not find response key `ASSISTANT:` in the following instance: USER:落語『饅頭こわい』で、主人公の男がオチでこわがる飲み物は何でしょう？\n",
      "\n",
      "ASSISTANT:(熱い)お茶<|padding|><|padding|><|padding|><|padding|><|padding|><|padding|><|padding|><|padding|><|padding|><|padding|><|padding|><|padding|><|padding|><|padding|><|padding|><|padding|><|padding|> This instance will be ignored in loss calculation. Note, if this happens often, consider increasing the `max_seq_length`.\n",
      "  warnings.warn(\n",
      "/usr/local/lib/python3.11/dist-packages/trl/trainer/utils.py:160: UserWarning: Could not find response key `ASSISTANT:` in the following instance: USER:静岡県の民謡『チャッキリ節』では最高の男性として歌われている、本名を山本長五郎という幕末の侠客（きょうかく）といえば誰でしょう？\n",
      "\n",
      "ASSISTANT:(清水)次郎長 This instance will be ignored in loss calculation. Note, if this happens often, consider increasing the `max_seq_length`.\n",
      "  warnings.warn(\n",
      "/usr/local/lib/python3.11/dist-packages/trl/trainer/utils.py:160: UserWarning: Could not find response key `ASSISTANT:` in the following instance: USER:今年の北京オリンピックで、日本人史上最年長出場となる法華津寛(ほけつ・ひろし)選手は、どんな競技の選手でしょう？\n",
      "\n",
      "ASSISTANT:(馬場)馬術<|padding|><|padding|><|padding|><|padding|><|padding|><|padding|><|padding|><|padding|><|padding|><|padding|><|padding|><|padding|><|padding|><|padding|><|padding|><|padding|><|padding|><|padding|><|padding|><|padding|><|padding|><|padding|> This instance will be ignored in loss calculation. Note, if this happens often, consider increasing the `max_seq_length`.\n",
      "  warnings.warn(\n",
      "/usr/local/lib/python3.11/dist-packages/trl/trainer/utils.py:160: UserWarning: Could not find response key `ASSISTANT:` in the following instance: USER:ナイロンでできた細い糸をより合わせて作る、歯と歯の間の汚れを落とすための糸のことを何というでしょう？\n",
      "\n",
      "ASSISTANT:(デンタル)フロス<|padding|><|padding|><|padding|><|padding|><|padding|><|padding|><|padding|><|padding|><|padding|><|padding|><|padding|><|padding|><|padding|><|padding|><|padding|><|padding|><|padding|><|padding|> This instance will be ignored in loss calculation. Note, if this happens often, consider increasing the `max_seq_length`.\n",
      "  warnings.warn(\n",
      "/usr/local/lib/python3.11/dist-packages/trl/trainer/utils.py:160: UserWarning: Could not find response key `ASSISTANT:` in the following instance: USER:昨年、初のF１ワールドチャンピオンに輝いた、フェラーリ所属のドライバーは誰でしょう？\n",
      "\n",
      "ASSISTANT:(キミ・)ライコネン<|padding|><|padding|><|padding|><|padding|><|padding|><|padding|><|padding|><|padding|><|padding|><|padding|><|padding|><|padding|><|padding|><|padding|><|padding|><|padding|><|padding|><|padding|><|padding|><|padding|><|padding|> This instance will be ignored in loss calculation. Note, if this happens often, consider increasing the `max_seq_length`.\n",
      "  warnings.warn(\n",
      "/usr/local/lib/python3.11/dist-packages/trl/trainer/utils.py:160: UserWarning: Could not find response key `ASSISTANT:` in the following instance: USER:温泉の中でも、お湯を循環させず、汲み上げて湯船に流したままにしているものを特に何というでしょう?\n",
      "\n",
      "ASSISTANT:(源泉)かけ流し<|padding|><|padding|><|padding|><|padding|><|padding|><|padding|><|padding|><|padding|><|padding|><|padding|><|padding|> This instance will be ignored in loss calculation. Note, if this happens often, consider increasing the `max_seq_length`.\n",
      "  warnings.warn(\n",
      "/usr/local/lib/python3.11/dist-packages/transformers/integrations/peft.py:418: FutureWarning: The `active_adapter` method is deprecated and will be removed in a future version.\n",
      "  warnings.warn(\n",
      "/usr/local/lib/python3.11/dist-packages/trl/trainer/utils.py:160: UserWarning: Could not find response key `ASSISTANT:` in the following instance: USER:フランス語で「鼻」という意味の、一流の調香師にフランス政府から与えられる称号は何でしょう？\n",
      "\n",
      "ASSISTANT:(ル・)ネ<|padding|><|padding|><|padding|><|padding|><|padding|><|padding|><|padding|><|padding|><|padding|><|padding|><|padding|><|padding|><|padding|><|padding|><|padding|><|padding|><|padding|><|padding|><|padding|><|padding|><|padding|><|padding|> This instance will be ignored in loss calculation. Note, if this happens often, consider increasing the `max_seq_length`.\n",
      "  warnings.warn(\n",
      "/usr/local/lib/python3.11/dist-packages/trl/trainer/utils.py:160: UserWarning: Could not find response key `ASSISTANT:` in the following instance: USER:現在のイラクの大統領はタラバニですが、イランの大統領は誰でしょう？\n",
      "\n",
      "ASSISTANT:(マフムード・)アフマディネジャド<|padding|><|padding|><|padding|><|padding|><|padding|><|padding|><|padding|><|padding|><|padding|><|padding|><|padding|><|padding|> This instance will be ignored in loss calculation. Note, if this happens often, consider increasing the `max_seq_length`.\n",
      "  warnings.warn(\n",
      "/usr/local/lib/python3.11/dist-packages/trl/trainer/utils.py:160: UserWarning: Could not find response key `ASSISTANT:` in the following instance: USER:本名を喜熨斗政彦(きのし・まさひこ)という、スーパー歌舞伎の創始者として知られる歌舞伎役者は誰でしょう？\n",
      "\n",
      "ASSISTANT:(３代目)市川猿之助(いちかわ・えんのすけ) This instance will be ignored in loss calculation. Note, if this happens often, consider increasing the `max_seq_length`.\n",
      "  warnings.warn(\n",
      "/usr/local/lib/python3.11/dist-packages/trl/trainer/utils.py:160: UserWarning: Could not find response key `ASSISTANT:` in the following instance: USER:人工衛星の破片やロケットのパーツなど、宇宙空間に放置されたままの人工的廃棄物を何というでしょう？\n",
      "\n",
      "ASSISTANT:(スペース)デブリ【「宇宙ごみ」も○】<|padding|> This instance will be ignored in loss calculation. Note, if this happens often, consider increasing the `max_seq_length`.\n",
      "  warnings.warn(\n",
      "/usr/local/lib/python3.11/dist-packages/trl/trainer/utils.py:160: UserWarning: Could not find response key `ASSISTANT:` in the following instance: USER:温泉の中でも、お湯を循環させず、汲み上げて湯船に流したままにしているものを特に何というでしょう?\n",
      "\n",
      "ASSISTANT:(源泉)かけ流し<|padding|><|padding|><|padding|><|padding|><|padding|><|padding|><|padding|><|padding|><|padding|><|padding|><|padding|><|padding|><|padding|><|padding|> This instance will be ignored in loss calculation. Note, if this happens often, consider increasing the `max_seq_length`.\n",
      "  warnings.warn(\n",
      "/usr/local/lib/python3.11/dist-packages/trl/trainer/utils.py:160: UserWarning: Could not find response key `ASSISTANT:` in the following instance: USER:現在のイラクの大統領はタラバニですが、イランの大統領は誰でしょう？\n",
      "\n",
      "ASSISTANT:(マフムード・)アフマディネジャド<|padding|><|padding|><|padding|><|padding|><|padding|><|padding|><|padding|><|padding|><|padding|><|padding|><|padding|><|padding|><|padding|><|padding|><|padding|><|padding|><|padding|> This instance will be ignored in loss calculation. Note, if this happens often, consider increasing the `max_seq_length`.\n",
      "  warnings.warn(\n",
      "/usr/local/lib/python3.11/dist-packages/trl/trainer/utils.py:160: UserWarning: Could not find response key `ASSISTANT:` in the following instance: USER:フィリピンの第３代大統領の名が付けられた、「アジアのノーベル賞」とも呼ばれる国際的な賞は何でしょう？\n",
      "\n",
      "ASSISTANT:(ﾗﾓﾝ･)マグサイサイ賞 This instance will be ignored in loss calculation. Note, if this happens often, consider increasing the `max_seq_length`.\n",
      "  warnings.warn(\n",
      "/usr/local/lib/python3.11/dist-packages/trl/trainer/utils.py:160: UserWarning: Could not find response key `ASSISTANT:` in the following instance: USER:静岡県の民謡『チャッキリ節』では最高の男性として歌われている、本名を山本長五郎という幕末の侠客（きょうかく）といえば誰でしょう？\n",
      "\n",
      "ASSISTANT:(清水)次郎長<|padding|><|padding|><|padding|><|padding|><|padding|><|padding|><|padding|><|padding|><|padding|> This instance will be ignored in loss calculation. Note, if this happens often, consider increasing the `max_seq_length`.\n",
      "  warnings.warn(\n",
      "/usr/local/lib/python3.11/dist-packages/trl/trainer/utils.py:160: UserWarning: Could not find response key `ASSISTANT:` in the following instance: USER:(2007年)現在は23時55分を指している、地球が滅亡する「午前０時」までの残り時間を象徴的に示す、シカゴ大学に置かれた時計を何というでしょう？\n",
      "\n",
      "ASSISTANT:(世界)終末時計(Doomsday Clock、核の時計、運命の日の時計) This instance will be ignored in loss calculation. Note, if this happens often, consider increasing the `max_seq_length`.\n",
      "  warnings.warn(\n",
      "/usr/local/lib/python3.11/dist-packages/trl/trainer/utils.py:160: UserWarning: Could not find response key `ASSISTANT:` in the following instance: USER:昨年、初のF１ワールドチャンピオンに輝いた、フェラーリ所属のドライバーは誰でしょう？\n",
      "\n",
      "ASSISTANT:(キミ・)ライコネン<|padding|><|padding|><|padding|><|padding|><|padding|><|padding|><|padding|><|padding|><|padding|><|padding|><|padding|><|padding|><|padding|><|padding|><|padding|><|padding|><|padding|><|padding|> This instance will be ignored in loss calculation. Note, if this happens often, consider increasing the `max_seq_length`.\n",
      "  warnings.warn(\n",
      "/usr/local/lib/python3.11/dist-packages/trl/trainer/utils.py:160: UserWarning: Could not find response key `ASSISTANT:` in the following instance: USER:データ通信を行うために、コンピューターや端末との間であらかじめ定めておく通信規約のことを、英語で何と言うでしょう？\n",
      "\n",
      "ASSISTANT:(ネットワーク)プロトコル(protocol)【「通信プロトコル」「コミュニケーションプロトコル」も○】 This instance will be ignored in loss calculation. Note, if this happens often, consider increasing the `max_seq_length`.\n",
      "  warnings.warn(\n",
      "/usr/local/lib/python3.11/dist-packages/trl/trainer/utils.py:160: UserWarning: Could not find response key `ASSISTANT:` in the following instance: USER:衆・参各７名ずつの議員で構成される、国会が裁判官を罷免するために設置する裁判所を何というでしょう？\n",
      "\n",
      "ASSISTANT:(裁判官)弾劾裁判所<|padding|><|padding|><|padding|><|padding|><|padding|><|padding|><|padding|><|padding|><|padding|><|padding|><|padding|><|padding|><|padding|><|padding|><|padding|> This instance will be ignored in loss calculation. Note, if this happens often, consider increasing the `max_seq_length`.\n",
      "  warnings.warn(\n",
      "/usr/local/lib/python3.11/dist-packages/trl/trainer/utils.py:160: UserWarning: Could not find response key `ASSISTANT:` in the following instance: USER:嘉永６年に開園した、東京にある日本最古の遊園地はどこでしょう？\n",
      "\n",
      "ASSISTANT:(浅草)花やしき<|padding|><|padding|><|padding|><|padding|><|padding|><|padding|><|padding|><|padding|><|padding|><|padding|><|padding|><|padding|><|padding|><|padding|><|padding|><|padding|><|padding|><|padding|><|padding|><|padding|><|padding|><|padding|> This instance will be ignored in loss calculation. Note, if this happens often, consider increasing the `max_seq_length`.\n",
      "  warnings.warn(\n",
      "/usr/local/lib/python3.11/dist-packages/trl/trainer/utils.py:160: UserWarning: Could not find response key `ASSISTANT:` in the following instance: USER:人工衛星の破片やロケットのパーツなど、宇宙空間に放置されたままの人工的廃棄物を何というでしょう？\n",
      "\n",
      "ASSISTANT:(スペース)デブリ【「宇宙ごみ」も○】<|padding|><|padding|><|padding|><|padding|><|padding|><|padding|><|padding|><|padding|><|padding|><|padding|><|padding|> This instance will be ignored in loss calculation. Note, if this happens often, consider increasing the `max_seq_length`.\n",
      "  warnings.warn(\n",
      "/usr/local/lib/python3.11/dist-packages/trl/trainer/utils.py:160: UserWarning: Could not find response key `ASSISTANT:` in the following instance: USER:車や戦艦のプラモデルをはじめ「ミニ四駆」の発売で有名な、静岡市にある模型会社は何でしょう？\n",
      "\n",
      "ASSISTANT:(株式会社)タミヤ【旧社名「田宮模型」もオマケで○】<|padding|><|padding|><|padding|><|padding|><|padding|><|padding|><|padding|> This instance will be ignored in loss calculation. Note, if this happens often, consider increasing the `max_seq_length`.\n",
      "  warnings.warn(\n",
      "/usr/local/lib/python3.11/dist-packages/trl/trainer/utils.py:160: UserWarning: Could not find response key `ASSISTANT:` in the following instance: USER:落語『饅頭こわい』で、主人公の男がオチでこわがる飲み物は何でしょう？\n",
      "\n",
      "ASSISTANT:(熱い)お茶<|padding|><|padding|><|padding|><|padding|><|padding|><|padding|><|padding|><|padding|><|padding|><|padding|><|padding|><|padding|><|padding|><|padding|><|padding|><|padding|> This instance will be ignored in loss calculation. Note, if this happens often, consider increasing the `max_seq_length`.\n",
      "  warnings.warn(\n",
      "/usr/local/lib/python3.11/dist-packages/trl/trainer/utils.py:160: UserWarning: Could not find response key `ASSISTANT:` in the following instance: USER:フランス語で「鼻」という意味の、一流の調香師にフランス政府から与えられる称号は何でしょう？\n",
      "\n",
      "ASSISTANT:(ル・)ネ<|padding|><|padding|><|padding|><|padding|><|padding|><|padding|><|padding|><|padding|><|padding|><|padding|><|padding|><|padding|> This instance will be ignored in loss calculation. Note, if this happens often, consider increasing the `max_seq_length`.\n",
      "  warnings.warn(\n",
      "/usr/local/lib/python3.11/dist-packages/transformers/integrations/peft.py:418: FutureWarning: The `active_adapter` method is deprecated and will be removed in a future version.\n",
      "  warnings.warn(\n",
      "/usr/local/lib/python3.11/dist-packages/trl/trainer/utils.py:160: UserWarning: Could not find response key `ASSISTANT:` in the following instance: USER:ナイロンでできた細い糸をより合わせて作る、歯と歯の間の汚れを落とすための糸のことを何というでしょう？\n",
      "\n",
      "ASSISTANT:(デンタル)フロス<|padding|><|padding|><|padding|><|padding|><|padding|><|padding|><|padding|><|padding|><|padding|><|padding|><|padding|><|padding|><|padding|><|padding|><|padding|><|padding|><|padding|><|padding|><|padding|><|padding|><|padding|><|padding|> This instance will be ignored in loss calculation. Note, if this happens often, consider increasing the `max_seq_length`.\n",
      "  warnings.warn(\n",
      "/usr/local/lib/python3.11/dist-packages/trl/trainer/utils.py:160: UserWarning: Could not find response key `ASSISTANT:` in the following instance: USER:1909年、世界で初めて北極点に到達したアメリカの軍人は誰でしょう？\n",
      "\n",
      "ASSISTANT:(ロバート・)ピアリ(ー)<|padding|><|padding|><|padding|><|padding|><|padding|><|padding|><|padding|><|padding|><|padding|><|padding|><|padding|><|padding|><|padding|><|padding|><|padding|><|padding|><|padding|><|padding|><|padding|> This instance will be ignored in loss calculation. Note, if this happens often, consider increasing the `max_seq_length`.\n",
      "  warnings.warn(\n",
      "/usr/local/lib/python3.11/dist-packages/trl/trainer/utils.py:160: UserWarning: Could not find response key `ASSISTANT:` in the following instance: USER:今年の北京オリンピックで、日本人史上最年長出場となる法華津寛(ほけつ・ひろし)選手は、どんな競技の選手でしょう？\n",
      "\n",
      "ASSISTANT:(馬場)馬術<|padding|><|padding|><|padding|><|padding|><|padding|><|padding|><|padding|><|padding|><|padding|><|padding|><|padding|><|padding|><|padding|><|padding|><|padding|><|padding|><|padding|><|padding|><|padding|><|padding|><|padding|><|padding|><|padding|><|padding|> This instance will be ignored in loss calculation. Note, if this happens often, consider increasing the `max_seq_length`.\n",
      "  warnings.warn(\n",
      "/usr/local/lib/python3.11/dist-packages/trl/trainer/utils.py:160: UserWarning: Could not find response key `ASSISTANT:` in the following instance: USER:本名を喜熨斗政彦(きのし・まさひこ)という、スーパー歌舞伎の創始者として知られる歌舞伎役者は誰でしょう？\n",
      "\n",
      "ASSISTANT:(３代目)市川猿之助(いちかわ・えんのすけ) This instance will be ignored in loss calculation. Note, if this happens often, consider increasing the `max_seq_length`.\n",
      "  warnings.warn(\n",
      "/usr/local/lib/python3.11/dist-packages/trl/trainer/utils.py:160: UserWarning: Could not find response key `ASSISTANT:` in the following instance: USER:和服で、帯の結び目を丸くふくらませる結び方を、ある楽器に例えて何というでしょう？\n",
      "\n",
      "ASSISTANT:(お)太鼓結び<|padding|><|padding|><|padding|><|padding|><|padding|><|padding|><|padding|><|padding|><|padding|> This instance will be ignored in loss calculation. Note, if this happens often, consider increasing the `max_seq_length`.\n",
      "  warnings.warn(\n",
      "/usr/local/lib/python3.11/dist-packages/trl/trainer/utils.py:160: UserWarning: Could not find response key `ASSISTANT:` in the following instance: USER:正多角形の中で唯一、辺の数と対角線の数が同じものは何でしょう？\n",
      "\n",
      "ASSISTANT:(正)五角形<|padding|><|padding|><|padding|><|padding|><|padding|><|padding|><|padding|><|padding|><|padding|><|padding|><|padding|><|padding|><|padding|><|padding|><|padding|><|padding|> This instance will be ignored in loss calculation. Note, if this happens often, consider increasing the `max_seq_length`.\n",
      "  warnings.warn(\n",
      "/usr/local/lib/python3.11/dist-packages/trl/trainer/utils.py:160: UserWarning: Could not find response key `ASSISTANT:` in the following instance: USER:温泉の中でも、お湯を循環させず、汲み上げて湯船に流したままにしているものを特に何というでしょう?\n",
      "\n",
      "ASSISTANT:(源泉)かけ流し<|padding|><|padding|><|padding|><|padding|><|padding|><|padding|><|padding|><|padding|><|padding|><|padding|><|padding|><|padding|><|padding|><|padding|><|padding|><|padding|><|padding|><|padding|><|padding|> This instance will be ignored in loss calculation. Note, if this happens often, consider increasing the `max_seq_length`.\n",
      "  warnings.warn(\n",
      "/usr/local/lib/python3.11/dist-packages/trl/trainer/utils.py:160: UserWarning: Could not find response key `ASSISTANT:` in the following instance: USER:(2007年)現在は23時55分を指している、地球が滅亡する「午前０時」までの残り時間を象徴的に示す、シカゴ大学に置かれた時計を何というでしょう？\n",
      "\n",
      "ASSISTANT:(世界)終末時計(Doomsday Clock、核の時計、運命の日の時計) This instance will be ignored in loss calculation. Note, if this happens often, consider increasing the `max_seq_length`.\n",
      "  warnings.warn(\n",
      "/usr/local/lib/python3.11/dist-packages/trl/trainer/utils.py:160: UserWarning: Could not find response key `ASSISTANT:` in the following instance: USER:車や戦艦のプラモデルをはじめ「ミニ四駆」の発売で有名な、静岡市にある模型会社は何でしょう？\n",
      "\n",
      "ASSISTANT:(株式会社)タミヤ【旧社名「田宮模型」もオマケで○】<|padding|><|padding|><|padding|><|padding|><|padding|> This instance will be ignored in loss calculation. Note, if this happens often, consider increasing the `max_seq_length`.\n",
      "  warnings.warn(\n",
      "/usr/local/lib/python3.11/dist-packages/trl/trainer/utils.py:160: UserWarning: Could not find response key `ASSISTANT:` in the following instance: USER:今年の北京オリンピックで、日本人史上最年長出場となる法華津寛(ほけつ・ひろし)選手は、どんな競技の選手でしょう？\n",
      "\n",
      "ASSISTANT:(馬場)馬術<|padding|><|padding|><|padding|> This instance will be ignored in loss calculation. Note, if this happens often, consider increasing the `max_seq_length`.\n",
      "  warnings.warn(\n",
      "/usr/local/lib/python3.11/dist-packages/trl/trainer/utils.py:160: UserWarning: Could not find response key `ASSISTANT:` in the following instance: USER:ナイロンでできた細い糸をより合わせて作る、歯と歯の間の汚れを落とすための糸のことを何というでしょう？\n",
      "\n",
      "ASSISTANT:(デンタル)フロス<|padding|><|padding|><|padding|><|padding|><|padding|><|padding|><|padding|><|padding|><|padding|><|padding|><|padding|><|padding|><|padding|><|padding|><|padding|><|padding|><|padding|><|padding|><|padding|><|padding|><|padding|> This instance will be ignored in loss calculation. Note, if this happens often, consider increasing the `max_seq_length`.\n",
      "  warnings.warn(\n",
      "/usr/local/lib/python3.11/dist-packages/transformers/integrations/peft.py:418: FutureWarning: The `active_adapter` method is deprecated and will be removed in a future version.\n",
      "  warnings.warn(\n",
      "/usr/local/lib/python3.11/dist-packages/trl/trainer/utils.py:160: UserWarning: Could not find response key `ASSISTANT:` in the following instance: USER:和服で、帯の結び目を丸くふくらませる結び方を、ある楽器に例えて何というでしょう？\n",
      "\n",
      "ASSISTANT:(お)太鼓結び<|padding|><|padding|><|padding|><|padding|><|padding|><|padding|><|padding|><|padding|><|padding|><|padding|><|padding|><|padding|><|padding|><|padding|> This instance will be ignored in loss calculation. Note, if this happens often, consider increasing the `max_seq_length`.\n",
      "  warnings.warn(\n",
      "/usr/local/lib/python3.11/dist-packages/trl/trainer/utils.py:160: UserWarning: Could not find response key `ASSISTANT:` in the following instance: USER:フィリピンの第３代大統領の名が付けられた、「アジアのノーベル賞」とも呼ばれる国際的な賞は何でしょう？\n",
      "\n",
      "ASSISTANT:(ﾗﾓﾝ･)マグサイサイ賞<|padding|><|padding|><|padding|><|padding|><|padding|><|padding|><|padding|><|padding|><|padding|><|padding|> This instance will be ignored in loss calculation. Note, if this happens often, consider increasing the `max_seq_length`.\n",
      "  warnings.warn(\n",
      "/usr/local/lib/python3.11/dist-packages/trl/trainer/utils.py:160: UserWarning: Could not find response key `ASSISTANT:` in the following instance: USER:1909年、世界で初めて北極点に到達したアメリカの軍人は誰でしょう？\n",
      "\n",
      "ASSISTANT:(ロバート・)ピアリ(ー)<|padding|><|padding|><|padding|><|padding|> This instance will be ignored in loss calculation. Note, if this happens often, consider increasing the `max_seq_length`.\n",
      "  warnings.warn(\n",
      "/usr/local/lib/python3.11/dist-packages/trl/trainer/utils.py:160: UserWarning: Could not find response key `ASSISTANT:` in the following instance: USER:データ通信を行うために、コンピューターや端末との間であらかじめ定めておく通信規約のことを、英語で何と言うでしょう？\n",
      "\n",
      "ASSISTANT:(ネットワーク)プロトコル(protocol)【「通信プロトコル」「コミュニケーションプロトコル」も○】<|padding|><|padding|><|padding|><|padding|><|padding|><|padding|><|padding|><|padding|> This instance will be ignored in loss calculation. Note, if this happens often, consider increasing the `max_seq_length`.\n",
      "  warnings.warn(\n",
      "/usr/local/lib/python3.11/dist-packages/trl/trainer/utils.py:160: UserWarning: Could not find response key `ASSISTANT:` in the following instance: USER:正多角形の中で唯一、辺の数と対角線の数が同じものは何でしょう？\n",
      "\n",
      "ASSISTANT:(正)五角形<|padding|><|padding|><|padding|><|padding|><|padding|><|padding|><|padding|><|padding|><|padding|><|padding|><|padding|><|padding|><|padding|><|padding|><|padding|><|padding|><|padding|><|padding|><|padding|><|padding|><|padding|><|padding|><|padding|><|padding|><|padding|><|padding|><|padding|> This instance will be ignored in loss calculation. Note, if this happens often, consider increasing the `max_seq_length`.\n",
      "  warnings.warn(\n",
      "/usr/local/lib/python3.11/dist-packages/trl/trainer/utils.py:160: UserWarning: Could not find response key `ASSISTANT:` in the following instance: USER:昨年、初のF１ワールドチャンピオンに輝いた、フェラーリ所属のドライバーは誰でしょう？\n",
      "\n",
      "ASSISTANT:(キミ・)ライコネン<|padding|><|padding|><|padding|><|padding|><|padding|><|padding|><|padding|><|padding|><|padding|><|padding|> This instance will be ignored in loss calculation. Note, if this happens often, consider increasing the `max_seq_length`.\n",
      "  warnings.warn(\n",
      "/usr/local/lib/python3.11/dist-packages/trl/trainer/utils.py:160: UserWarning: Could not find response key `ASSISTANT:` in the following instance: USER:衆・参各７名ずつの議員で構成される、国会が裁判官を罷免するために設置する裁判所を何というでしょう？\n",
      "\n",
      "ASSISTANT:(裁判官)弾劾裁判所<|padding|><|padding|><|padding|><|padding|><|padding|><|padding|> This instance will be ignored in loss calculation. Note, if this happens often, consider increasing the `max_seq_length`.\n",
      "  warnings.warn(\n",
      "/usr/local/lib/python3.11/dist-packages/trl/trainer/utils.py:160: UserWarning: Could not find response key `ASSISTANT:` in the following instance: USER:静岡県の民謡『チャッキリ節』では最高の男性として歌われている、本名を山本長五郎という幕末の侠客（きょうかく）といえば誰でしょう？\n",
      "\n",
      "ASSISTANT:(清水)次郎長 This instance will be ignored in loss calculation. Note, if this happens often, consider increasing the `max_seq_length`.\n",
      "  warnings.warn(\n",
      "/usr/local/lib/python3.11/dist-packages/trl/trainer/utils.py:160: UserWarning: Could not find response key `ASSISTANT:` in the following instance: USER:フランス語で「鼻」という意味の、一流の調香師にフランス政府から与えられる称号は何でしょう？\n",
      "\n",
      "ASSISTANT:(ル・)ネ<|padding|><|padding|><|padding|><|padding|><|padding|><|padding|><|padding|><|padding|><|padding|><|padding|><|padding|><|padding|><|padding|><|padding|><|padding|><|padding|><|padding|><|padding|><|padding|><|padding|><|padding|><|padding|><|padding|><|padding|><|padding|> This instance will be ignored in loss calculation. Note, if this happens often, consider increasing the `max_seq_length`.\n",
      "  warnings.warn(\n",
      "/usr/local/lib/python3.11/dist-packages/trl/trainer/utils.py:160: UserWarning: Could not find response key `ASSISTANT:` in the following instance: USER:現在のイラクの大統領はタラバニですが、イランの大統領は誰でしょう？\n",
      "\n",
      "ASSISTANT:(マフムード・)アフマディネジャド<|padding|><|padding|><|padding|><|padding|><|padding|><|padding|><|padding|><|padding|><|padding|><|padding|><|padding|><|padding|><|padding|><|padding|><|padding|> This instance will be ignored in loss calculation. Note, if this happens often, consider increasing the `max_seq_length`.\n",
      "  warnings.warn(\n",
      "/usr/local/lib/python3.11/dist-packages/trl/trainer/utils.py:160: UserWarning: Could not find response key `ASSISTANT:` in the following instance: USER:嘉永６年に開園した、東京にある日本最古の遊園地はどこでしょう？\n",
      "\n",
      "ASSISTANT:(浅草)花やしき<|padding|><|padding|><|padding|><|padding|><|padding|><|padding|><|padding|><|padding|><|padding|><|padding|><|padding|><|padding|><|padding|><|padding|><|padding|><|padding|><|padding|><|padding|><|padding|><|padding|><|padding|><|padding|><|padding|><|padding|><|padding|><|padding|><|padding|> This instance will be ignored in loss calculation. Note, if this happens often, consider increasing the `max_seq_length`.\n",
      "  warnings.warn(\n",
      "/usr/local/lib/python3.11/dist-packages/trl/trainer/utils.py:160: UserWarning: Could not find response key `ASSISTANT:` in the following instance: USER:人工衛星の破片やロケットのパーツなど、宇宙空間に放置されたままの人工的廃棄物を何というでしょう？\n",
      "\n",
      "ASSISTANT:(スペース)デブリ【「宇宙ごみ」も○】<|padding|><|padding|><|padding|><|padding|><|padding|><|padding|> This instance will be ignored in loss calculation. Note, if this happens often, consider increasing the `max_seq_length`.\n",
      "  warnings.warn(\n",
      "/usr/local/lib/python3.11/dist-packages/trl/trainer/utils.py:160: UserWarning: Could not find response key `ASSISTANT:` in the following instance: USER:落語『饅頭こわい』で、主人公の男がオチでこわがる飲み物は何でしょう？\n",
      "\n",
      "ASSISTANT:(熱い)お茶<|padding|><|padding|><|padding|><|padding|><|padding|><|padding|><|padding|><|padding|><|padding|><|padding|><|padding|><|padding|> This instance will be ignored in loss calculation. Note, if this happens often, consider increasing the `max_seq_length`.\n",
      "  warnings.warn(\n",
      "/usr/local/lib/python3.11/dist-packages/trl/trainer/utils.py:160: UserWarning: Could not find response key `ASSISTANT:` in the following instance: USER:本名を喜熨斗政彦(きのし・まさひこ)という、スーパー歌舞伎の創始者として知られる歌舞伎役者は誰でしょう？\n",
      "\n",
      "ASSISTANT:(３代目)市川猿之助(いちかわ・えんのすけ) This instance will be ignored in loss calculation. Note, if this happens often, consider increasing the `max_seq_length`.\n",
      "  warnings.warn(\n",
      "/usr/local/lib/python3.11/dist-packages/transformers/integrations/peft.py:418: FutureWarning: The `active_adapter` method is deprecated and will be removed in a future version.\n",
      "  warnings.warn(\n"
     ]
    },
    {
     "name": "stdout",
     "output_type": "stream",
     "text": [
      "CPU times: user 17min 38s, sys: 4min 2s, total: 21min 41s\n",
      "Wall time: 21min 43s\n"
     ]
    },
    {
     "data": {
      "text/plain": [
       "TrainOutput(global_step=1875, training_loss=14.616333072916667, metrics={'train_runtime': 1303.7761, 'train_samples_per_second': 23.01, 'train_steps_per_second': 1.438, 'total_flos': 6.322045482329702e+16, 'train_loss': 14.616333072916667, 'epoch': 3.0})"
      ]
     },
     "execution_count": 16,
     "metadata": {},
     "output_type": "execute_result"
    }
   ],
   "source": [
    "%%time\n",
    "\n",
    "## 訓練実行\n",
    "\n",
    "trainer.train()"
   ]
  },
  {
   "cell_type": "code",
   "execution_count": 17,
   "id": "337296f2-5625-4f5b-b9cd-8a4a2460e831",
   "metadata": {},
   "outputs": [
    {
     "name": "stdout",
     "output_type": "stream",
     "text": [
      "USER:人気タレント・タモリの本名は何でしょう？\n",
      "ASSISTANT:USER:USER:USER:USER:USER:USER:USER:USER:USER:USER:USER:USER:USER:USER:USER:USER:USER:USER:USER:USER:USER USER:USER:USER:USER:USER:USER:USER:USER:USER:USER:USER:USER:USER:USER:USER:USER:USER:USER:USER:USER:USER:USER:USER:USER:USER:USER:USER:USER:USER:\n",
      "CPU times: user 16.5 s, sys: 22.7 ms, total: 16.5 s\n",
      "Wall time: 16.5 s\n"
     ]
    }
   ],
   "source": [
    "%%time\n",
    "generate(model, sample_text)"
   ]
  },
  {
   "cell_type": "code",
   "execution_count": null,
   "id": "b71dcd02-2cbc-49b7-9a1c-36e815d8fa1b",
   "metadata": {},
   "outputs": [],
   "source": []
  }
 ],
 "metadata": {
  "kernelspec": {
   "display_name": "Python 3 (ipykernel)",
   "language": "python",
   "name": "python3"
  },
  "language_info": {
   "codemirror_mode": {
    "name": "ipython",
    "version": 3
   },
   "file_extension": ".py",
   "mimetype": "text/x-python",
   "name": "python",
   "nbconvert_exporter": "python",
   "pygments_lexer": "ipython3",
   "version": "3.11.10"
  }
 },
 "nbformat": 4,
 "nbformat_minor": 5
}
