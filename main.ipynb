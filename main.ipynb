{
 "cells": [
  {
   "cell_type": "code",
   "execution_count": 1,
   "id": "11f3a789-99dd-4419-828b-871818b64b5e",
   "metadata": {},
   "outputs": [],
   "source": [
    "from datasets import load_dataset, DatasetDict\n",
    "from transformers import AutoTokenizer, AutoModelForCausalLM\n",
    "import string\n",
    "from trl import SFTTrainer, SFTConfig, DataCollatorForCompletionOnlyLM\n",
    "from peft import LoraConfig"
   ]
  },
  {
   "cell_type": "code",
   "execution_count": 2,
   "id": "bbac2d9b-f7d2-4351-b226-f20addfcfe43",
   "metadata": {},
   "outputs": [],
   "source": [
    "## モデル名\n",
    "\n",
    "model_name = \"cyberagent/calm2-7b-chat\""
   ]
  },
  {
   "cell_type": "code",
   "execution_count": 3,
   "id": "93e703b9-b36e-49bd-8772-6a085a0d1b78",
   "metadata": {},
   "outputs": [],
   "source": [
    "## トークナイザーのインポート\n",
    "\n",
    "tokenizer = AutoTokenizer.from_pretrained(\n",
    "    model_name,\n",
    "    use_fast = True\n",
    ")"
   ]
  },
  {
   "cell_type": "code",
   "execution_count": 4,
   "id": "e16bc956-95b4-4522-8fc4-c60a88e2135c",
   "metadata": {},
   "outputs": [
    {
     "name": "stderr",
     "output_type": "stream",
     "text": [
      "The `load_in_4bit` and `load_in_8bit` arguments are deprecated and will be removed in the future versions. Please, pass a `BitsAndBytesConfig` object in `quantization_config` argument instead.\n"
     ]
    },
    {
     "data": {
      "application/vnd.jupyter.widget-view+json": {
       "model_id": "8d615bc4b4224353b6914f2adc69cbf1",
       "version_major": 2,
       "version_minor": 0
      },
      "text/plain": [
       "Loading checkpoint shards:   0%|          | 0/2 [00:00<?, ?it/s]"
      ]
     },
     "metadata": {},
     "output_type": "display_data"
    }
   ],
   "source": [
    "## モデルのインポート\n",
    "## リソースが足りないので、1/4量子化\n",
    "\n",
    "model = AutoModelForCausalLM.from_pretrained(\n",
    "    model_name,\n",
    "    device_map = 'auto', # 複数のGPUがあるときに、それらを均等に使用する\n",
    "    load_in_8bit = True, # 精度と引き換えに、パラメータを8bitに省略したLLMを使用して計算を軽量化\n",
    ")"
   ]
  },
  {
   "cell_type": "code",
   "execution_count": 5,
   "id": "600cc5ea-cacc-49f4-8025-2c992b99325a",
   "metadata": {},
   "outputs": [],
   "source": [
    "chat_template = string.Template(\n",
    "    \"USER:${user}\\nASSISTANT:${assistant}\"\n",
    ")\n",
    "response_key = \"ASSISTANT:\""
   ]
  },
  {
   "cell_type": "code",
   "execution_count": 6,
   "id": "c7751035-0c97-4002-8e39-2efff5ac6181",
   "metadata": {},
   "outputs": [],
   "source": [
    "sample_text = chat_template.safe_substitute({\n",
    "    \"user\": \"人気タレント・タモリの本名は何でしょう？\",\n",
    "     \"assistant\": \"\" # AIに回答させるために空けておく\n",
    "})"
   ]
  },
  {
   "cell_type": "code",
   "execution_count": 7,
   "id": "e4135f5e-d756-4c24-8e8a-3faf13bd8c40",
   "metadata": {},
   "outputs": [],
   "source": [
    "def generate(model, text):\n",
    "    input_ids = tokenizer.encode(\n",
    "        text,\n",
    "        return_tensors = 'pt',\n",
    "        add_special_tokens = True\n",
    "    ).to(model.device)\n",
    "    output_ids = model.generate(\n",
    "        input_ids,\n",
    "        max_new_tokens = 100,\n",
    "        do_sample = True,\n",
    "        temperature = 0.8,\n",
    "    )\n",
    "    print(\n",
    "        tokenizer.decode(\n",
    "            output_ids[0],\n",
    "            skip_special_tokens = True\n",
    "        )\n",
    "    )"
   ]
  },
  {
   "cell_type": "code",
   "execution_count": 8,
   "id": "41553f64-e575-4c1c-848d-4de17260b638",
   "metadata": {},
   "outputs": [
    {
     "name": "stdout",
     "output_type": "stream",
     "text": [
      "USER:人気タレント・タモリの本名は何でしょう？\n",
      "ASSISTANT: タモリの本名は森田豊です。\n",
      "CPU times: user 1.69 s, sys: 294 ms, total: 1.98 s\n",
      "Wall time: 1.98 s\n"
     ]
    }
   ],
   "source": [
    "%%time\n",
    "generate(model, sample_text)"
   ]
  },
  {
   "cell_type": "code",
   "execution_count": 9,
   "id": "e028c638-46e6-4207-bd21-c8c99b4fb1f5",
   "metadata": {},
   "outputs": [],
   "source": [
    "## 外部のデータセットをインポート\n",
    "\n",
    "rs = \"izumi-lab/llm-japanese-dataset\"\n",
    "datasets = load_dataset(\n",
    "    rs,\n",
    "    split = 'train'\n",
    ")"
   ]
  },
  {
   "cell_type": "code",
   "execution_count": 10,
   "id": "9b3df404-e608-4059-8492-186cbd4f38c4",
   "metadata": {},
   "outputs": [],
   "source": [
    "## 学習データセットの整形プロセス\n",
    "\n",
    "def update_datasets(example):\n",
    "    output_texts = []\n",
    "    for instruction_, input_, output_ in zip(example['instruction'], example['input'], example['output']):\n",
    "        text = chat_template.safe_substitute({\n",
    "            \"user\": \"{0}\\n{1}\".format(instruction_, input_),\n",
    "            \"assistant\": output_\n",
    "        })\n",
    "        output_texts.append(text)\n",
    "    return output_texts"
   ]
  },
  {
   "cell_type": "code",
   "execution_count": 11,
   "id": "90d4b0e1-1e8f-43a5-89ed-2512ab70ffa5",
   "metadata": {},
   "outputs": [],
   "source": [
    "## ??\n",
    "\n",
    "collator = DataCollatorForCompletionOnlyLM(\n",
    "    response_key,\n",
    "    tokenizer = tokenizer\n",
    ")"
   ]
  },
  {
   "cell_type": "code",
   "execution_count": 12,
   "id": "72113fa1-231d-4858-a80d-b358ddece89b",
   "metadata": {},
   "outputs": [],
   "source": [
    "peft_config = LoraConfig(\n",
    "    lora_alpha = 16,\n",
    "    lora_dropout = 0.1,\n",
    "    r = 16,\n",
    "    bias = \"lora_only\",\n",
    "    task_type = \"CAUSAL_LM\",\n",
    ")"
   ]
  },
  {
   "cell_type": "code",
   "execution_count": 13,
   "id": "2623bbcc-7a42-4493-8e50-c86d4231b603",
   "metadata": {},
   "outputs": [],
   "source": [
    "## アダプタの付与\n",
    "## 量子化したモデルをそのままファインチューニングできないため\n",
    "## 全体チューニングではなく、出力換算するための行列を修飾する(Lora)\n",
    "## 実際にtrainされるのは行列の部分だけ\n",
    "\n",
    "model.add_adapter(peft_config)"
   ]
  },
  {
   "cell_type": "code",
   "execution_count": 14,
   "id": "5c32e61d-f4ab-4d86-ad84-e702c0679787",
   "metadata": {},
   "outputs": [
    {
     "name": "stderr",
     "output_type": "stream",
     "text": [
      "/usr/local/lib/python3.11/dist-packages/huggingface_hub/utils/_deprecation.py:100: FutureWarning: Deprecated argument(s) used in '__init__': max_seq_length. Will not be supported from version '0.13.0'.\n",
      "\n",
      "Deprecated positional argument(s) used in SFTTrainer, please use the SFTConfig to set these arguments instead.\n",
      "  warnings.warn(message, FutureWarning)\n",
      "/usr/local/lib/python3.11/dist-packages/trl/trainer/sft_trainer.py:300: UserWarning: You passed a `max_seq_length` argument to the SFTTrainer, the value you passed will override the one in the `SFTConfig`.\n",
      "  warnings.warn(\n"
     ]
    },
    {
     "data": {
      "application/vnd.jupyter.widget-view+json": {
       "model_id": "c774cc38841c42c4b4e23b71202597f6",
       "version_major": 2,
       "version_minor": 0
      },
      "text/plain": [
       "Map:   0%|          | 0/10000 [00:00<?, ? examples/s]"
      ]
     },
     "metadata": {},
     "output_type": "display_data"
    },
    {
     "name": "stdout",
     "output_type": "stream",
     "text": [
      "CPU times: user 3.13 s, sys: 106 ms, total: 3.23 s\n",
      "Wall time: 1.02 s\n"
     ]
    }
   ],
   "source": [
    "%%time\n",
    "\n",
    "## 訓練オブジェクトの定義\n",
    "\n",
    "trainer = SFTTrainer(\n",
    "    model,\n",
    "    train_dataset = datasets.select(range(10000)),\n",
    "    args = SFTConfig(\n",
    "        output_dir = \"./tmp\",\n",
    "        per_device_train_batch_size = 16\n",
    "    ),\n",
    "    formatting_func = update_datasets,\n",
    "    data_collator = collator,\n",
    "    max_seq_length = 128,\n",
    ")"
   ]
  },
  {
   "cell_type": "code",
   "execution_count": null,
   "id": "2cdd8939-9d34-4f31-b1d7-1b3927280fde",
   "metadata": {},
   "outputs": [
    {
     "data": {
      "text/html": [
       "\n",
       "    <div>\n",
       "      \n",
       "      <progress value='237' max='3750' style='width:300px; height:20px; vertical-align: middle;'></progress>\n",
       "      [ 237/3750 02:01 < 30:14, 1.94 it/s, Epoch 0.19/3]\n",
       "    </div>\n",
       "    <table border=\"1\" class=\"dataframe\">\n",
       "  <thead>\n",
       " <tr style=\"text-align: left;\">\n",
       "      <th>Step</th>\n",
       "      <th>Training Loss</th>\n",
       "    </tr>\n",
       "  </thead>\n",
       "  <tbody>\n",
       "  </tbody>\n",
       "</table><p>"
      ],
      "text/plain": [
       "<IPython.core.display.HTML object>"
      ]
     },
     "metadata": {},
     "output_type": "display_data"
    },
    {
     "name": "stderr",
     "output_type": "stream",
     "text": [
      "/usr/local/lib/python3.11/dist-packages/trl/trainer/utils.py:160: UserWarning: Could not find response key `ASSISTANT:` in the following instance: USER:和服で、帯の結び目を丸くふくらませる結び方を、ある楽器に例えて何というでしょう？\n",
      "\n",
      "ASSISTANT:(お)太鼓結び<|padding|><|padding|><|padding|><|padding|><|padding|><|padding|><|padding|><|padding|><|padding|><|padding|><|padding|><|padding|><|padding|><|padding|><|padding|><|padding|><|padding|><|padding|><|padding|><|padding|><|padding|><|padding|><|padding|><|padding|><|padding|><|padding|><|padding|><|padding|> This instance will be ignored in loss calculation. Note, if this happens often, consider increasing the `max_seq_length`.\n",
      "  warnings.warn(\n",
      "/usr/local/lib/python3.11/dist-packages/trl/trainer/utils.py:160: UserWarning: Could not find response key `ASSISTANT:` in the following instance: USER:嘉永６年に開園した、東京にある日本最古の遊園地はどこでしょう？\n",
      "\n",
      "ASSISTANT:(浅草)花やしき<|padding|><|padding|><|padding|><|padding|><|padding|><|padding|><|padding|><|padding|><|padding|><|padding|><|padding|><|padding|><|padding|> This instance will be ignored in loss calculation. Note, if this happens often, consider increasing the `max_seq_length`.\n",
      "  warnings.warn(\n",
      "/usr/local/lib/python3.11/dist-packages/trl/trainer/utils.py:160: UserWarning: Could not find response key `ASSISTANT:` in the following instance: USER:1909年、世界で初めて北極点に到達したアメリカの軍人は誰でしょう？\n",
      "\n",
      "ASSISTANT:(ロバート・)ピアリ(ー)<|padding|><|padding|><|padding|><|padding|><|padding|><|padding|><|padding|><|padding|><|padding|><|padding|><|padding|><|padding|><|padding|><|padding|> This instance will be ignored in loss calculation. Note, if this happens often, consider increasing the `max_seq_length`.\n",
      "  warnings.warn(\n"
     ]
    }
   ],
   "source": [
    "%%time\n",
    "\n",
    "## 訓練実行\n",
    "\n",
    "trainer.train()"
   ]
  },
  {
   "cell_type": "code",
   "execution_count": null,
   "id": "337296f2-5625-4f5b-b9cd-8a4a2460e831",
   "metadata": {},
   "outputs": [],
   "source": [
    "%%time\n",
    "generate(model, sample_text)"
   ]
  },
  {
   "cell_type": "markdown",
   "id": "28fee8a7-11e9-4313-8ba6-b091e7662dc6",
   "metadata": {},
   "source": [
    "データ多すぎる説がある\n",
    "\n",
    "datasets.select(range(1000))とか検討"
   ]
  },
  {
   "cell_type": "markdown",
   "id": "689f07a0-5c88-41ac-b742-9b78432de975",
   "metadata": {},
   "source": [
    "USER, USER, USER...\n",
    "\n",
    "この現象はアダプタを付けた時点で発症しているので、\n",
    "アダプタの設定が悪い可能性がある\n",
    "\n",
    "要検証"
   ]
  }
 ],
 "metadata": {
  "kernelspec": {
   "display_name": "Python 3 (ipykernel)",
   "language": "python",
   "name": "python3"
  },
  "language_info": {
   "codemirror_mode": {
    "name": "ipython",
    "version": 3
   },
   "file_extension": ".py",
   "mimetype": "text/x-python",
   "name": "python",
   "nbconvert_exporter": "python",
   "pygments_lexer": "ipython3",
   "version": "3.11.10"
  }
 },
 "nbformat": 4,
 "nbformat_minor": 5
}
